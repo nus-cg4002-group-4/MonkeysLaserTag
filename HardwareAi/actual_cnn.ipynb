{
 "cells": [
  {
   "cell_type": "code",
   "execution_count": 11,
   "metadata": {},
   "outputs": [],
   "source": [
    "action_types = ['default', 'grenade', 'shield', 'reload', 'punch', 'spear', 'hammer', 'portal', 'spider', 'logout']"
   ]
  },
  {
   "cell_type": "code",
   "execution_count": 12,
   "metadata": {},
   "outputs": [
    {
     "name": "stdout",
     "output_type": "stream",
     "text": [
      "Python Platform: Linux-5.15.90.1-microsoft-standard-WSL2-x86_64-with-glibc2.35\n",
      "Tensorflow Version: 2.13.0\n",
      "GPU is NOT AVAILABLE\n"
     ]
    }
   ],
   "source": [
    "import tensorflow as tf\n",
    "import platform\n",
    "\n",
    "print(f'Python Platform: {platform.platform()}')\n",
    "print(f'Tensorflow Version: {tf.__version__}')\n",
    "gpu = len(tf.config.list_physical_devices('GPU'))>0\n",
    "print('GPU is', 'available' if gpu else 'NOT AVAILABLE')"
   ]
  },
  {
   "cell_type": "code",
   "execution_count": 13,
   "metadata": {},
   "outputs": [
    {
     "name": "stdout",
     "output_type": "stream",
     "text": [
      "class:  ndarray\n",
      "shape:  (40, 40, 3)\n",
      "strides:  (960, 24, 8)\n",
      "itemsize:  8\n",
      "aligned:  True\n",
      "contiguous:  True\n",
      "fortran:  False\n",
      "data pointer: 0x55dd704b8e70\n",
      "byteorder:  little\n",
      "byteswap:  False\n",
      "type: float64\n",
      "None\n",
      "2\n"
     ]
    }
   ],
   "source": [
    "# Read CSV\n",
    "\n",
    "import sys\n",
    "import os\n",
    "import csv\n",
    "import numpy as np\n",
    "\n",
    "home_path = sys.path[0]\n",
    "rel_path = 'trim_util/trimmed_csv'\n",
    "total_path = os.path.join(home_path, rel_path)\n",
    "\n",
    "X = []\n",
    "y = []\n",
    "\n",
    "for file in os.listdir(total_path):\n",
    "    if file.endswith(\".csv\"):\n",
    "        p = os.path.join(total_path, file)\n",
    "        f = open(p, 'r')\n",
    "        r = csv.reader(f, delimiter=',')\n",
    "        next(r)\n",
    "        X.append(list(r))\n",
    "        y.append(file.split('_')[0])\n",
    "\n",
    "X = np.array(X)\n",
    "X = X.astype(float)\n",
    "y = np.array([action_types.index(s) for s in y])\n",
    "print(np.info(X))\n",
    "print(y[0])"
   ]
  },
  {
   "cell_type": "code",
   "execution_count": 14,
   "metadata": {},
   "outputs": [],
   "source": [
    "# Normalize each sample for training\n",
    "\n",
    "from scipy.stats import zscore\n",
    "from scipy import signal\n",
    "\n",
    "noscale_X = X.copy()\n",
    "\n",
    "# Extract label\n",
    "\n",
    "for sample in X:\n",
    "    signal.detrend(sample, axis=0)\n",
    "    zscore(sample, axis=0)"
   ]
  },
  {
   "cell_type": "code",
   "execution_count": 15,
   "metadata": {},
   "outputs": [
    {
     "data": {
      "text/plain": [
       "((32, 40, 3), (8, 40, 3))"
      ]
     },
     "execution_count": 15,
     "metadata": {},
     "output_type": "execute_result"
    }
   ],
   "source": [
    "from sklearn.model_selection import train_test_split\n",
    "\n",
    "X_train, X_test, y_train, y_test = train_test_split(X, y, test_size = 0.2, random_state = 0, stratify = y)\n",
    "\n",
    "X_train.shape, X_test.shape"
   ]
  },
  {
   "cell_type": "code",
   "execution_count": 16,
   "metadata": {},
   "outputs": [
    {
     "name": "stdout",
     "output_type": "stream",
     "text": [
      "Model: \"sequential_1\"\n",
      "_________________________________________________________________\n",
      " Layer (type)                Output Shape              Param #   \n",
      "=================================================================\n",
      " conv1d_1 (Conv1D)           (None, 38, 16)            160       \n",
      "                                                                 \n",
      " conv1d_2 (Conv1D)           (None, 34, 32)            2592      \n",
      "                                                                 \n",
      " flatten_1 (Flatten)         (None, 1088)              0         \n",
      "                                                                 \n",
      " dense_2 (Dense)             (None, 64)                69696     \n",
      "                                                                 \n",
      " dropout_1 (Dropout)         (None, 64)                0         \n",
      "                                                                 \n",
      " dense_3 (Dense)             (None, 10)                650       \n",
      "                                                                 \n",
      "=================================================================\n",
      "Total params: 73098 (285.54 KB)\n",
      "Trainable params: 73098 (285.54 KB)\n",
      "Non-trainable params: 0 (0.00 Byte)\n",
      "_________________________________________________________________\n"
     ]
    }
   ],
   "source": [
    "from tensorflow.keras import Sequential\n",
    "from tensorflow.keras.layers import Flatten, Dense, Dropout, BatchNormalization\n",
    "from tensorflow.keras.layers import Conv2D, Conv1D, MaxPool2D, Input\n",
    "from tensorflow.keras.optimizers import Adam\n",
    "\n",
    "num_classes = len(action_types)\n",
    "\n",
    "model = Sequential()\n",
    "model.add(Input(shape=(40, 3))) # actually should be (40, 12)\n",
    "model.add(Conv1D(16, 3, activation='relu'))\n",
    "model.add(Conv1D(32, 5, activation='relu'))\n",
    "model.add(Flatten())\n",
    "model.add(Dense(64, activation='relu'))\n",
    "model.add(Dropout(0.5))\n",
    "model.add(Dense(num_classes, activation='softmax'))\n",
    "\n",
    "model.compile(optimizer=Adam(learning_rate = 0.001), loss = 'sparse_categorical_crossentropy', metrics = ['accuracy'])\n",
    "model.summary()"
   ]
  },
  {
   "cell_type": "code",
   "execution_count": 17,
   "metadata": {},
   "outputs": [
    {
     "name": "stdout",
     "output_type": "stream",
     "text": [
      "Epoch 1/20\n"
     ]
    },
    {
     "name": "stdout",
     "output_type": "stream",
     "text": [
      "1/1 [==============================] - 1s 525ms/step - loss: 3.8402 - accuracy: 0.0938 - val_loss: 0.0574 - val_accuracy: 1.0000\n",
      "Epoch 2/20\n",
      "1/1 [==============================] - 0s 24ms/step - loss: 0.9136 - accuracy: 0.6875 - val_loss: 9.1762e-04 - val_accuracy: 1.0000\n",
      "Epoch 3/20\n",
      "1/1 [==============================] - 0s 24ms/step - loss: 0.1425 - accuracy: 0.9375 - val_loss: 5.3925e-05 - val_accuracy: 1.0000\n",
      "Epoch 4/20\n",
      "1/1 [==============================] - 0s 22ms/step - loss: 0.0759 - accuracy: 0.9688 - val_loss: 5.5879e-06 - val_accuracy: 1.0000\n",
      "Epoch 5/20\n",
      "1/1 [==============================] - 0s 23ms/step - loss: 0.0015 - accuracy: 1.0000 - val_loss: 7.3016e-07 - val_accuracy: 1.0000\n",
      "Epoch 6/20\n",
      "1/1 [==============================] - 0s 22ms/step - loss: 0.0298 - accuracy: 1.0000 - val_loss: 8.9407e-08 - val_accuracy: 1.0000\n",
      "Epoch 7/20\n",
      "1/1 [==============================] - 0s 23ms/step - loss: 3.1412e-04 - accuracy: 1.0000 - val_loss: 1.4901e-08 - val_accuracy: 1.0000\n",
      "Epoch 8/20\n",
      "1/1 [==============================] - 0s 22ms/step - loss: 0.0047 - accuracy: 1.0000 - val_loss: 0.0000e+00 - val_accuracy: 1.0000\n",
      "Epoch 9/20\n",
      "1/1 [==============================] - 0s 23ms/step - loss: 0.0231 - accuracy: 1.0000 - val_loss: 0.0000e+00 - val_accuracy: 1.0000\n",
      "Epoch 10/20\n",
      "1/1 [==============================] - 0s 21ms/step - loss: 2.2651e-05 - accuracy: 1.0000 - val_loss: 0.0000e+00 - val_accuracy: 1.0000\n",
      "Epoch 11/20\n",
      "1/1 [==============================] - 0s 23ms/step - loss: 0.0019 - accuracy: 1.0000 - val_loss: 0.0000e+00 - val_accuracy: 1.0000\n",
      "Epoch 12/20\n",
      "1/1 [==============================] - 0s 24ms/step - loss: 3.1155e-05 - accuracy: 1.0000 - val_loss: 0.0000e+00 - val_accuracy: 1.0000\n",
      "Epoch 13/20\n",
      "1/1 [==============================] - 0s 23ms/step - loss: 1.4255e-04 - accuracy: 1.0000 - val_loss: 0.0000e+00 - val_accuracy: 1.0000\n",
      "Epoch 14/20\n",
      "1/1 [==============================] - 0s 23ms/step - loss: 7.9525e-06 - accuracy: 1.0000 - val_loss: 0.0000e+00 - val_accuracy: 1.0000\n",
      "Epoch 15/20\n",
      "1/1 [==============================] - 0s 25ms/step - loss: 3.8815e-06 - accuracy: 1.0000 - val_loss: 0.0000e+00 - val_accuracy: 1.0000\n",
      "Epoch 16/20\n",
      "1/1 [==============================] - 0s 26ms/step - loss: 3.0547e-07 - accuracy: 1.0000 - val_loss: 0.0000e+00 - val_accuracy: 1.0000\n",
      "Epoch 17/20\n",
      "1/1 [==============================] - 0s 40ms/step - loss: 3.5464e-06 - accuracy: 1.0000 - val_loss: 0.0000e+00 - val_accuracy: 1.0000\n",
      "Epoch 18/20\n",
      "1/1 [==============================] - 0s 23ms/step - loss: 2.5130e-04 - accuracy: 1.0000 - val_loss: 0.0000e+00 - val_accuracy: 1.0000\n",
      "Epoch 19/20\n",
      "1/1 [==============================] - 0s 22ms/step - loss: 1.4781e-05 - accuracy: 1.0000 - val_loss: 0.0000e+00 - val_accuracy: 1.0000\n",
      "Epoch 20/20\n",
      "1/1 [==============================] - 0s 25ms/step - loss: 2.1606e-06 - accuracy: 1.0000 - val_loss: 0.0000e+00 - val_accuracy: 1.0000\n"
     ]
    }
   ],
   "source": [
    "num_epochs = 20\n",
    "history = model.fit(X_train, y_train, epochs = num_epochs, validation_data=(X_test, y_test), verbose=1)"
   ]
  },
  {
   "cell_type": "code",
   "execution_count": 21,
   "metadata": {},
   "outputs": [
    {
     "data": {
      "image/png": "[encoded data removed]",
      "text/plain": [
       "<Figure size 640x480 with 1 Axes>"
      ]
     },
     "metadata": {},
     "output_type": "display_data"
    },
    {
     "data": {
      "image/png": "[encoded data removed]",
      "text/plain": [
       "<Figure size 640x480 with 1 Axes>"
      ]
     },
     "metadata": {},
     "output_type": "display_data"
    }
   ],
   "source": [
    "import matplotlib.pyplot as plt\n",
    "\n",
    "def plot_learningCurve(history, epochs):\n",
    "  # Plot training & validation accuracy values\n",
    "  epoch_range = range(1, epochs+1)\n",
    "  plt.plot(epoch_range, history.history['accuracy'])\n",
    "  plt.plot(epoch_range, history.history['val_accuracy'])\n",
    "  plt.title('Model accuracy')\n",
    "  plt.ylabel('Accuracy')\n",
    "  plt.xlabel('Epoch')\n",
    "  plt.legend(['Train', 'Val'], loc='upper left')\n",
    "  plt.show()\n",
    "\n",
    "  # Plot training & validation loss values\n",
    "  plt.plot(epoch_range, history.history['loss'])\n",
    "  plt.plot(epoch_range, history.history['val_loss'])\n",
    "  plt.title('Model loss')\n",
    "  plt.ylabel('Loss')\n",
    "  plt.xlabel('Epoch')\n",
    "  plt.legend(['Train', 'Val'], loc='upper left')\n",
    "  plt.show()\n",
    "\n",
    "plot_learningCurve(history, num_epochs)"
   ]
  },
  {
   "cell_type": "code",
   "execution_count": 19,
   "metadata": {},
   "outputs": [],
   "source": [
    "from mlxtend.plotting import plot_confusion_matrix\n",
    "from sklearn.metrics import confusion_matrix\n",
    "\n",
    "# predict_classes generates class predictions for the input samples.\n",
    "\n",
    "# y_pred = model.predict(X_test)\n",
    "# y_classes = np.argmax(y_pred,axis=1)\n",
    "# \n",
    "# print(y_test)\n",
    "# \n",
    "# mat = confusion_matrix(y_test, y_classes)\n",
    "# plot_confusion_matrix(conf_mat=mat, class_names=action_types, show_normed=True, figsize=(8,8))"
   ]
  },
  {
   "cell_type": "code",
   "execution_count": 20,
   "metadata": {},
   "outputs": [],
   "source": [
    "# Save model\n",
    "import os, sys\n",
    "\n",
    "# The weights are arranged in such a way that: \n",
    "#   weights[x] contains data for each column in each filter\n",
    "#   weights[][y] contains data for each row in each filter\n",
    "#   weights[][][z] indexes each filter\n",
    "# So weights[8][4][0] references the 8th column and 4th row of the 0th filter.\n",
    "\n",
    "# First Conv1D weights\n",
    "cfd = sys.path[0]\n",
    "folder_name = 'HLS_CNN'\n",
    "conv1_w = open(os.path.join(cfd, folder_name, 'conv1_weights.txt'), \"w\")\n",
    "tensor = model.layers[0].get_weights()[0]\n",
    "\n",
    "for i in range(len(tensor)):\n",
    "    for j in range(len(tensor[0])):\n",
    "        for k in range(len(tensor[0][0])):\n",
    "            conv1_w.write(str(tensor[i][j][k]))\n",
    "            if i < len(tensor) - 1 or j < len(tensor[0]) - 1 or k < len(tensor[0][0]) - 1:\n",
    "                conv1_w.write(',')\n",
    "\n",
    "conv1_w.close()\n",
    "\n",
    "# First Conv1D biases\n",
    "conv1_b = open(os.path.join(cfd, folder_name, 'conv1_biases.txt'), \"w\")\n",
    "biases = model.layers[0].get_weights()[1]\n",
    "conv1_b.write(\",\".join(str(x) for x in biases))\n",
    "conv1_b.close()\n",
    "\n",
    "# Second Conv1D weights\n",
    "cfd = sys.path[0]\n",
    "conv2_w = open(os.path.join(cfd, folder_name, 'conv2_weights.txt'), \"w\")\n",
    "tensor = model.layers[1].get_weights()[0]\n",
    "\n",
    "for i in range(len(tensor)):\n",
    "    for j in range(len(tensor[0])):\n",
    "        for k in range(len(tensor[0][0])):\n",
    "            conv2_w.write(str(tensor[i][j][k]))\n",
    "            if i < len(tensor) - 1 or j < len(tensor[0]) - 1 or k < len(tensor[0][0]) - 1:\n",
    "                conv2_w.write(',')\n",
    "\n",
    "conv2_w.close()\n",
    "\n",
    "# Second Conv1D biases\n",
    "conv2_b = open(os.path.join(cfd, folder_name, 'conv2_biases.txt'), \"w\")\n",
    "biases = model.layers[1].get_weights()[1]\n",
    "conv2_b.write(\",\".join(str(x) for x in biases))\n",
    "conv2_b.close()\n",
    "\n",
    "# First dense layer weights\n",
    "tensor = model.layers[3].get_weights()[0]\n",
    "\n",
    "dense1_w = open(os.path.join(cfd, folder_name, 'dense1_weights.txt'), \"w\")\n",
    "\n",
    "for i in range(len(tensor)):\n",
    "    for j in range(len(tensor[0])):\n",
    "        dense1_w.write(str(tensor[i][j]))\n",
    "        if i < len(tensor) - 1 or j < len(tensor[0]) - 1:\n",
    "            dense1_w.write(',')\n",
    "\n",
    "dense1_w.close()\n",
    "\n",
    "# First dense layer biases\n",
    "dense1_b = open(os.path.join(cfd, folder_name, 'dense1_biases.txt'), \"w\")\n",
    "biases = model.layers[3].get_weights()[1]\n",
    "dense1_b.write(\",\".join(str(x) for x in biases))\n",
    "dense1_b.close()\n",
    "\n",
    "# Second dense layer weights\n",
    "tensor = model.layers[5].get_weights()[0]\n",
    "\n",
    "dense2_w = open(os.path.join(cfd, folder_name, 'dense2_weights.txt'), \"w\")\n",
    "\n",
    "for i in range(len(tensor)):\n",
    "    for j in range(len(tensor[0])):\n",
    "        dense2_w.write(str(tensor[i][j]))\n",
    "        if i < len(tensor) - 1 or j < len(tensor[0]) - 1:\n",
    "            dense2_w.write(',')\n",
    "\n",
    "dense2_w.close()\n",
    "\n",
    "# Second dense layer biases\n",
    "dense2_b = open(os.path.join(cfd, folder_name, 'dense2_biases.txt'), \"w\")\n",
    "biases = model.layers[5].get_weights()[1]\n",
    "dense2_b.write(\",\".join(str(x) for x in biases))\n",
    "dense2_b.close()"
   ]
  },
  {
   "cell_type": "code",
   "execution_count": 25,
   "metadata": {},
   "outputs": [
    {
     "name": "stdout",
     "output_type": "stream",
     "text": [
      "g++ -g -Wfatal-errors -Wpedantic -pedantic-errors -Wall -Wextra *.cpp \n",
      "1/1 [==============================] - 0s 91ms/step\n",
      "Total tests: 20\n",
      "Total equal to pyNN: 20\n",
      "Total correct: 20\n",
      "% =pyNN: 1.0\n",
      "pyNN % correct: 1.0\n",
      "CPP % correct: 1.0\n"
     ]
    }
   ],
   "source": [
    "# Test against C++\n",
    "import subprocess\n",
    "\n",
    "#test_result = subprocess.run([out_loc, '<', test_loc], stdout=subprocess.PIPE, stderr=subprocess.PIPE, text=True)\n",
    "test_loc = os.path.join(cfd, folder_name, 'test.in')\n",
    "out_loc = os.path.join(cfd, folder_name, 'a.out')\n",
    "\n",
    "total_tests = 20\n",
    "total_correct = 0\n",
    "total_vs_nn = 0\n",
    "total_nn_correct = 0\n",
    "\n",
    "test_list = []\n",
    "test_answers = []\n",
    "cpp_answer = []\n",
    "\n",
    "subprocess.run('make', cwd=os.path.join(cfd, folder_name))\n",
    "\n",
    "for i in range(total_tests):\n",
    "    choice = np.random.randint(0, len(X))\n",
    "    test_list.append(X[choice])\n",
    "    test_answers.append(y[choice])\n",
    "    \n",
    "    Xflat = noscale_X[choice].flatten()\n",
    "    np.savetxt(test_loc, Xflat)\n",
    "    test_pipe = subprocess.Popen(['cat', test_loc], stdout=subprocess.PIPE)\n",
    "    out_pipe = subprocess.Popen([out_loc], stdin=test_pipe.stdout, stdout=subprocess.PIPE)\n",
    "    output = out_pipe.communicate()[0].decode('ascii')\n",
    "    cpp_answer.append(int(output))\n",
    "\n",
    "    if int(output) == y[choice]:\n",
    "        total_correct += 1\n",
    "\n",
    "prediction = model.predict(tf.reshape(test_list, [total_tests, 40, 3]))\n",
    "\n",
    "for i in range(total_tests):\n",
    "    if cpp_answer[i] == np.argmax(prediction[i]):\n",
    "        total_vs_nn += 1\n",
    "    if test_answers[i] == np.argmax(prediction[i]):\n",
    "        total_nn_correct += 1\n",
    "\n",
    "print('Total tests:', total_tests)\n",
    "print('Total equal to pyNN:', total_vs_nn)\n",
    "print('Total correct:', total_correct)\n",
    "print('% =pyNN:', total_vs_nn / total_tests)\n",
    "print('pyNN % correct:', total_nn_correct / total_tests)\n",
    "print('CPP % correct:', total_correct / total_tests)"
   ]
  }
 ],
 "metadata": {
  "kernelspec": {
   "display_name": "Python 3",
   "language": "python",
   "name": "python3"
  },
  "language_info": {
   "codemirror_mode": {
    "name": "ipython",
    "version": 3
   },
   "file_extension": ".py",
   "mimetype": "text/x-python",
   "name": "python",
   "nbconvert_exporter": "python",
   "pygments_lexer": "ipython3",
   "version": "3.10.12"
  },
  "orig_nbformat": 4
 },
 "nbformat": 4,
 "nbformat_minor": 2
}
